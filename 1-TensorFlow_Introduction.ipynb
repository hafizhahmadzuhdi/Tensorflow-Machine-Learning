{
    "metadata": {
        "kernelspec": {
            "name": "python3",
            "display_name": "Python 3"
        },
        "language_info": {
            "name": "python",
            "version": "3.7.6",
            "mimetype": "text/x-python",
            "codemirror_mode": {
                "name": "ipython",
                "version": 3
            },
            "pygments_lexer": "ipython3",
            "nbconvert_exporter": "python",
            "file_extension": ".py"
        },
        "colab": {
            "name": "1-TensorFlow-Introduction.ipynb",
            "provenance": []
        }
    },
    "nbformat_minor": 2,
    "nbformat": 4,
    "cells": [
        {
            "cell_type": "markdown",
            "source": [
                "#TensorFlow 2.0 Introduction\n",
                "In this notebook you will be given an interactive introduction to TensorFlow 2.0. We will walk through the following topics within the TensorFlow module:\n",
                "\n",
                "- TensorFlow Install and Setup\n",
                "- Representing Tensors\n",
                "- Tensor Shape and Rank\n",
                "- Types of Tensors\n",
                "\n",
                "\n",
                "If you'd like to follow along without installing TensorFlow on your machine you can use **Google Collaboratory**. Collaboratory is a free Jupyter notebook environment that requires no setup and runs entirely in the cloud."
            ],
            "metadata": {
                "id": "-5u3a4csUPyn",
                "colab_type": "text",
                "azdata_cell_guid": "1c9bf969-c210-4d9f-9b61-e196c06f9693"
            }
        },
        {
            "cell_type": "markdown",
            "source": [
                "##Installing TensorFlow\n",
                "To install TensorFlow on your local machine you can use pip.\n",
                "```console\n",
                "pip install tensorflow\n",
                "```"
            ],
            "metadata": {
                "id": "F7ThfbiQl96l",
                "colab_type": "text",
                "azdata_cell_guid": "5a1ec9c4-81d7-4d94-b0ce-048166170fe2"
            }
        },
        {
            "cell_type": "markdown",
            "source": [
                "![alt text](https://)If you have a CUDA enabled GPU you can install the GPU version of TensorFlow. You will also need to install some other software which can be found here: https://www.tensorflow.org/install/gpu \n",
                "```console\n",
                "pip install tensorflow-gpu\n",
                "```"
            ],
            "metadata": {
                "id": "JYQWyAJ2mez6",
                "colab_type": "text",
                "azdata_cell_guid": "217618ad-e70e-4bab-bb5b-71976ccf401d"
            }
        },
        {
            "cell_type": "markdown",
            "source": [
                "## Importing TensorFlow\n",
                "The first step here is going to be to select the correct version of TensorFlow from within collabratory!\n"
            ],
            "metadata": {
                "id": "JJjNMaSClWhg",
                "colab_type": "text",
                "azdata_cell_guid": "f899af78-def2-4d40-ac96-3a4ec38f0301"
            }
        },
        {
            "cell_type": "code",
            "source": [
                "%tensorflow_version 2.x  # this line is not required unless you are in a notebook"
            ],
            "metadata": {
                "id": "vGcE8x2Gkw9K",
                "colab_type": "code",
                "colab": {},
                "azdata_cell_guid": "0e12bf38-ccda-4b0a-9fab-6652e2db55ce"
            },
            "outputs": [
                {
                    "name": "stderr",
                    "text": "UsageError: Line magic function `%tensorflow_version` not found.\n",
                    "output_type": "stream"
                }
            ],
            "execution_count": 1
        },
        {
            "cell_type": "code",
            "source": [
                "import tensorflow as tf  # now import the tensorflow module\n",
                "print(tf.version)  # make sure the version is 2.x"
            ],
            "metadata": {
                "id": "4N7XbNDVY8P3",
                "colab_type": "code",
                "colab": {},
                "azdata_cell_guid": "c8ad75f0-a8f8-4e96-9595-e07707a1dd43"
            },
            "outputs": [
                {
                    "name": "stdout",
                    "text": "<module 'tensorflow._api.v2.version' from '/opt/anaconda3/lib/python3.7/site-packages/tensorflow/_api/v2/version/__init__.py'>\n",
                    "output_type": "stream"
                }
            ],
            "execution_count": 2
        },
        {
            "cell_type": "markdown",
            "source": [
                "## Tensors \n",
                "\"A tensor is a generalization of vectors and matrices to potentially higher dimensions. Internally, TensorFlow represents tensors as n-dimensional arrays of base datatypes.\" (https://www.tensorflow.org/guide/tensor)\n",
                "\n",
                "It should't surprise you that tensors are a fundemental apsect of TensorFlow. They are the main objects that are passed around and manipluated throughout the program. Each tensor represents a partialy defined computation that will eventually produce a value. TensorFlow programs work by building a graph of Tensor objects that details how tensors are related. Running different parts of the graph allow results to be generated.\n",
                "\n",
                "Each tensor has a data type and a shape. \n",
                "\n",
                "**Data Types Include**: float32, int32, string and others.\n",
                "\n",
                "**Shape**: Represents the dimension of data.\n",
                "\n",
                "Just like vectors and matrices tensors can have operations applied to them like addition, subtraction, dot product, cross product etc.\n",
                "\n",
                "In the next sections we will discuss some different properties of tensors. This is to make you more familiar with how tensorflow represnts data and how you can manipulate this data.\n",
                ""
            ],
            "metadata": {
                "id": "duDj86TfWFof",
                "colab_type": "text",
                "azdata_cell_guid": "b1a5bd9b-ee6a-4b1b-b865-b359d3478f7e"
            }
        },
        {
            "cell_type": "markdown",
            "source": [
                "### Creating Tensors\n",
                "Below is an example of how to create some different tensors.\n",
                "\n",
                "You simply define the value of the tensor and the datatype and you are good to go! It's worth mentioning that usually we deal with tensors of numeric data, it is quite rare to see string tensors.\n",
                "\n",
                "For a full list of datatypes please refer to the following guide.\n",
                "\n",
                "https://www.tensorflow.org/api_docs/python/tf/dtypes/DType?version=stable"
            ],
            "metadata": {
                "id": "TAk6QhGUwQRt",
                "colab_type": "text",
                "azdata_cell_guid": "cfd9d62b-a9c3-4ced-997b-f013c684325e"
            }
        },
        {
            "cell_type": "code",
            "source": [
                "string = tf.Variable(\"this is a string\", tf.string) \n",
                "number = tf.Variable(324, tf.int16)\n",
                "floating = tf.Variable(3.567, tf.float64)\n",
                "phi = tf.Variable(3.14, tf.float64)\n",
                "print(phi)"
            ],
            "metadata": {
                "id": "epGskXdjZHzu",
                "colab_type": "code",
                "colab": {},
                "azdata_cell_guid": "3e6479cf-fc78-41e2-9f3d-ef4fbf819d92"
            },
            "outputs": [
                {
                    "name": "stdout",
                    "text": "<tf.Variable 'Variable:0' shape=() dtype=float32, numpy=3.14>\n",
                    "output_type": "stream"
                }
            ],
            "execution_count": 4
        },
        {
            "cell_type": "markdown",
            "source": [
                "### Rank/Degree of Tensors\n",
                "Another word for rank is degree, these terms simply mean the number of dimensions involved in the tensor. What we created above is a *tensor of rank 0*, also known as a scalar. \n",
                "\n",
                "Now we'll create some tensors of higher degrees/ranks."
            ],
            "metadata": {
                "id": "D0_H71HMaE-5",
                "colab_type": "text",
                "azdata_cell_guid": "4c790c2f-8634-4e55-9bfa-b64b8a6c598b"
            }
        },
        {
            "cell_type": "code",
            "source": [
                "rank1_tensor = tf.Variable([\"Test\"], tf.string) # Degree 1\n",
                "rank2_tensor = tf.Variable([[\"test\", \"ok\"], [\"test\", \"yes\"]], tf.string) # Degree 2\n",
                "rank3_tensor = tf.Variable([[[\"te\", \"ok\", \"ss\"], [\"se\", \"so\", \"asas\"], [\"ai\", \"ao\", \"ss\"]]], tf.string) # Degree 3"
            ],
            "metadata": {
                "id": "hX_Cc5IfjQ6-",
                "colab_type": "code",
                "colab": {},
                "azdata_cell_guid": "a07d6c3f-8ace-4ee2-9a3d-702905fada4f"
            },
            "outputs": [],
            "execution_count": 17
        },
        {
            "cell_type": "code",
            "source": [
                "tf.rank(rank1_tensor)"
            ],
            "metadata": {
                "azdata_cell_guid": "6de1161e-0f29-4bac-92f3-82156e5c41a1"
            },
            "outputs": [
                {
                    "data": {
                        "text/plain": "<tf.Tensor: shape=(), dtype=int32, numpy=1>"
                    },
                    "metadata": {},
                    "execution_count": 18,
                    "output_type": "execute_result"
                }
            ],
            "execution_count": 18
        },
        {
            "cell_type": "code",
            "source": [
                "tf.rank(rank3_tensor)"
            ],
            "metadata": {
                "azdata_cell_guid": "4e3c753f-255f-4dcd-acb8-951c4b24338b"
            },
            "outputs": [
                {
                    "data": {
                        "text/plain": "<tf.Tensor: shape=(), dtype=int32, numpy=3>"
                    },
                    "metadata": {},
                    "execution_count": 19,
                    "output_type": "execute_result"
                }
            ],
            "execution_count": 19
        },
        {
            "cell_type": "markdown",
            "source": [
                "**To determine the rank** of a tensor we can call the following method."
            ],
            "metadata": {
                "id": "55zuGMc7nHjC",
                "colab_type": "text",
                "azdata_cell_guid": "eeb0ff9c-6b1d-458b-b475-5497a8ef8b6c"
            }
        },
        {
            "cell_type": "code",
            "source": [
                "tf.rank(rank2_tensor)"
            ],
            "metadata": {
                "id": "Zrj0rAWLnMNv",
                "colab_type": "code",
                "colab": {
                    "base_uri": "https://localhost:8080/",
                    "height": 34
                },
                "outputId": "b8b34a8c-fc6e-40c6-9fd6-294d1253631e",
                "azdata_cell_guid": "744aec85-e7dd-4b8f-943c-f090d48e879c"
            },
            "outputs": [
                {
                    "data": {
                        "text/plain": "<tf.Tensor: shape=(), dtype=int32, numpy=2>"
                    },
                    "metadata": {},
                    "execution_count": 7,
                    "output_type": "execute_result"
                }
            ],
            "execution_count": 7
        },
        {
            "cell_type": "markdown",
            "source": [
                "The rank of a tensor is direclty related to the deepest level of nested lists. You can see in the first example ```[\"Test\"]``` is a rank 1 tensor as the deepest level of nesting is 1. \n",
                "Where in the second example ```[[\"test\", \"ok\"], [\"test\", \"yes\"]]``` is a rank 2 tensor as the deepest level of nesting is 2."
            ],
            "metadata": {
                "id": "hTv4Gz67pQbx",
                "colab_type": "text",
                "azdata_cell_guid": "954e43d8-ba26-43cf-affc-868254c2f454"
            }
        },
        {
            "cell_type": "markdown",
            "source": [
                "### Shape of Tensors\n",
                "Now that we've talked about the rank of tensors it's time to talk about the shape. The shape of a tensor is simply the number of elements that exist in each dimension. TensorFlow will try to determine the shape of a tensor but sometimes it may be unknown.\n",
                "\n",
                "To **get the shape** of a tensor we use the shape attribute.\n",
                ""
            ],
            "metadata": {
                "id": "RaVrANK8q21q",
                "colab_type": "text",
                "azdata_cell_guid": "ea52c3f2-3ffb-496d-848b-e80bae230e73"
            }
        },
        {
            "cell_type": "code",
            "source": [
                "rank2_tensor.shape"
            ],
            "metadata": {
                "id": "L_NRXsFOraYa",
                "colab_type": "code",
                "colab": {},
                "azdata_cell_guid": "454848fc-177d-4ee5-a76b-af6cf8613f78"
            },
            "outputs": [
                {
                    "data": {
                        "text/plain": "TensorShape([2, 2])"
                    },
                    "metadata": {},
                    "execution_count": 24,
                    "output_type": "execute_result"
                }
            ],
            "execution_count": 24
        },
        {
            "cell_type": "code",
            "source": [
                "t = tf.constant([[[1, 1, 1], [2, 2, 2]], [[3, 3, 3], [4, 4, 4]], [[1,1,1], [2,2,2]]])\n",
                "t.shape\n",
                "# Shape printout structure: (X, Y, Z)\n",
                "# X : number of array in the first call\n",
                "# Y : number of array elements inside each array\n",
                "# Z : number of elements inside of array elements on each array"
            ],
            "metadata": {
                "azdata_cell_guid": "eac04628-2494-4acd-820b-e444bdea1b05"
            },
            "outputs": [
                {
                    "data": {
                        "text/plain": "TensorShape([3, 2, 3])"
                    },
                    "metadata": {},
                    "execution_count": 28,
                    "output_type": "execute_result"
                }
            ],
            "execution_count": 28
        },
        {
            "cell_type": "code",
            "source": [
                "tf.shape(rank1_tensor)"
            ],
            "metadata": {
                "azdata_cell_guid": "1c961c6c-6fb7-4118-8597-67a84a947f10"
            },
            "outputs": [
                {
                    "data": {
                        "text/plain": "<tf.Tensor: shape=(1,), dtype=int32, numpy=array([1], dtype=int32)>"
                    },
                    "metadata": {},
                    "execution_count": 23,
                    "output_type": "execute_result"
                }
            ],
            "execution_count": 23
        },
        {
            "cell_type": "markdown",
            "source": [
                "### Changing Shape\n",
                "The number of elements of a tensor is the product of the sizes of all its shapes. There are often many shapes that have the same number of elements, making it convient to be able to change the shape of a tensor.\n",
                "\n",
                "The example below shows how to change the shape of a tensor."
            ],
            "metadata": {
                "id": "wVDmLJeFs086",
                "colab_type": "text",
                "azdata_cell_guid": "b975d16d-c39b-499c-8e64-ec154b2fb9dc"
            }
        },
        {
            "cell_type": "code",
            "source": [
                "tensor1 = tf.ones([1,2,3])  # tf.ones() creates a shape [1,2,3] tensor full of ones\n",
                "tensor2 = tf.reshape(tensor1, [2,3,1])  # reshape existing data to shape [2,3,1]\n",
                "tensor3 = tf.reshape(tensor2, [3, -1])  # -1 tells the tensor to calculate the size of the dimension in that place\n",
                "                                        # this will reshape the tensor to [3,2] Please read here for more details: https://www.tensorflow.org/api_docs/python/tf/reshape\n",
                "                                        # It has something formula like this: D-1                                     \n",
                "# The numer of elements in the reshaped tensor MUST match the number in the original"
            ],
            "metadata": {
                "id": "dZ8Rbs2xtNqj",
                "colab_type": "code",
                "colab": {},
                "azdata_cell_guid": "59297135-656d-4834-935c-30c51eb42ecf"
            },
            "outputs": [],
            "execution_count": 29
        },
        {
            "cell_type": "markdown",
            "source": [
                "Now let's have a look at our different tensors."
            ],
            "metadata": {
                "id": "M631k7UDv1Wh",
                "colab_type": "text",
                "azdata_cell_guid": "26cc1ddd-4494-4b54-b3b7-c0e2c12a21ce"
            }
        },
        {
            "cell_type": "code",
            "source": [
                "print(tensor1)\n",
                "print(tensor2)\n",
                "print(tensor3)\n",
                "# Notice the changes in shape"
            ],
            "metadata": {
                "id": "IFNmUxaEv6s3",
                "colab_type": "code",
                "colab": {},
                "azdata_cell_guid": "da267b75-48f0-4220-8399-6f1611307e48"
            },
            "outputs": [
                {
                    "name": "stdout",
                    "text": "tf.Tensor(\n[[[1. 1. 1.]\n  [1. 1. 1.]]], shape=(1, 2, 3), dtype=float32)\ntf.Tensor(\n[[[1.]\n  [1.]\n  [1.]]\n\n [[1.]\n  [1.]\n  [1.]]], shape=(2, 3, 1), dtype=float32)\ntf.Tensor(\n[[1. 1.]\n [1. 1.]\n [1. 1.]], shape=(3, 2), dtype=float32)\n",
                    "output_type": "stream"
                }
            ],
            "execution_count": 30
        },
        {
            "cell_type": "markdown",
            "source": [
                "### Slicing Tensors\n",
                "You may be familiar with the term \"slice\" in python and its use on lists, tuples etc. Well the slice operator can be used on tensors to select specific axes or elements.\n",
                "\n",
                "When we slice or select elements from a tensor, we can use comma seperated values inside the set of square brackets. Each subsequent value refrences a different dimension of the tensor.\n",
                "\n",
                "Ex: ```tensor[dim1, dim2, dim3]```\n",
                "\n",
                "I've included a few examples that will hopefully help illustrate how we can manipulate tensors with the slice operator."
            ],
            "metadata": {
                "id": "q88pJucBolsp",
                "colab_type": "text",
                "azdata_cell_guid": "f7397fff-c2ba-4cf1-b2f8-d3a1eec6d563"
            }
        },
        {
            "cell_type": "code",
            "source": [
                "# Creating a 2D tensor\n",
                "matrix = [[1,2,3,4,5],\n",
                "          [6,7,8,9,10],\n",
                "          [11,12,13,14,15],\n",
                "          [16,17,18,19,20]]\n",
                "\n",
                "tensor = tf.Variable(matrix, dtype=tf.int32) \n",
                "print(tf.rank(tensor))\n",
                "print(tensor.shape)"
            ],
            "metadata": {
                "id": "b0YrD-hRqD-W",
                "colab_type": "code",
                "colab": {},
                "azdata_cell_guid": "2cb4e124-5dd9-4dd4-9ab4-02b4b4203fc5"
            },
            "outputs": [
                {
                    "name": "stdout",
                    "text": "tf.Tensor(2, shape=(), dtype=int32)\n(4, 5)\n",
                    "output_type": "stream"
                }
            ],
            "execution_count": 32
        },
        {
            "cell_type": "code",
            "source": [
                "# Now lets select some different rows and columns from our tensor\n",
                "\n",
                "three = tensor[0,2]  # selects the 3rd element from the 1st row\n",
                "print(three)  # -> 3\n",
                "\n",
                "row1 = tensor[0]  # selects the first row\n",
                "print(row1)\n",
                "\n",
                "column1 = tensor[:, 0]  # selects the first column\n",
                "print(column1)\n",
                "\n",
                "row_2_and_4 = tensor[1::2]  # selects second and fourth row\n",
                "print(row_2_and_4)\n",
                "\n",
                "column_1_in_row_2_and_3 = tensor[1:3, 0]\n",
                "print(column_1_in_row_2_and_3)\n",
                ""
            ],
            "metadata": {
                "id": "Wd85uGI7qyfC",
                "colab_type": "code",
                "colab": {},
                "azdata_cell_guid": "01527c49-5168-4a50-9edf-36d6bd26dae8"
            },
            "outputs": [
                {
                    "name": "stdout",
                    "text": "tf.Tensor(3, shape=(), dtype=int32)\ntf.Tensor([1 2 3 4 5], shape=(5,), dtype=int32)\ntf.Tensor([ 1  6 11 16], shape=(4,), dtype=int32)\ntf.Tensor(\n[[ 6  7  8  9 10]\n [16 17 18 19 20]], shape=(2, 5), dtype=int32)\ntf.Tensor([ 6 11], shape=(2,), dtype=int32)\n",
                    "output_type": "stream"
                }
            ],
            "execution_count": 34
        },
        {
            "cell_type": "markdown",
            "source": [
                "### Types of Tensors\n",
                "Before we go to far, I will mention that there are diffent types of tensors. These are the most used and we will talk more in depth about each as they are used.\n",
                "- Variable\n",
                "- Constant\n",
                "- Placeholder\n",
                "- SparseTensor\n",
                "\n",
                "With the execption of ```Variable``` all these tensors are immuttable, meaning their value may not change during execution.\n",
                "\n",
                "For now, it is enough to understand that we use the Variable tensor when we want to potentially change the value of our tensor.\n",
                "\n",
                ""
            ],
            "metadata": {
                "id": "UU4MMhB_rxvz",
                "colab_type": "text",
                "azdata_cell_guid": "511cdfea-10b2-4875-844e-d85cc8672135"
            }
        },
        {
            "cell_type": "markdown",
            "source": [
                "# Sources\n",
                "Most of the information is taken direclty from the TensorFlow website which can be found below.\n",
                "\n",
                "https://www.tensorflow.org/guide/tensor"
            ],
            "metadata": {
                "id": "F2OoXbe7aSVl",
                "colab_type": "text",
                "azdata_cell_guid": "3baad513-57cb-4aad-a808-0ed76c1e7b64"
            }
        }
    ]
}